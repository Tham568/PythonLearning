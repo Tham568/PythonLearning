{
 "cells": [
  {
   "cell_type": "code",
   "execution_count": 14,
   "metadata": {},
   "outputs": [
    {
     "name": "stdout",
     "output_type": "stream",
     "text": [
      "Enter the number of miles6\n",
      "6 miles equals 9.65604 kilometers\n"
     ]
    }
   ],
   "source": [
    "#input, print - format usage\n",
    "miles = int(input(\"Enter the number of miles\"))\n",
    "kilometers = miles * 1.60934\n",
    "print(\"{} miles equals {} kilometers\" .format(miles,kilometers))"
   ]
  },
  {
   "cell_type": "code",
   "execution_count": 3,
   "metadata": {},
   "outputs": [
    {
     "name": "stdout",
     "output_type": "stream",
     "text": [
      "sum 4\n"
     ]
    }
   ],
   "source": [
    "# simple print \n",
    "sum = 1+3\n",
    "print(\"sum\", sum)"
   ]
  },
  {
   "cell_type": "code",
   "execution_count": 9,
   "metadata": {},
   "outputs": [
    {
     "name": "stdout",
     "output_type": "stream",
     "text": [
      "Enter Calculation: 1 2 +\n",
      "1 + 2 = 3\n"
     ]
    }
   ],
   "source": [
    "#if else if sample - multiple input values assignment with split \n",
    "num_1, num_2, operator = input(\"Enter Calculation: \").split()\n",
    "num_1 = int(num_1)\n",
    "num_2 = int(num_2)\n",
    "\n",
    "if operator == \"+\":\n",
    "    print(\"{} + {} = {}\".format(num_1,num_2,num_1 + num_2))\n",
    "elif operator == \"-\":\n",
    "    print(\"{} - {} = {}\".format(num_1,num_2,num_1 - num_2))   \n",
    "elif operator == \"*\":\n",
    "    print(\"{} * {} = {}\".format(num_1,num_2,num_1 * num_2))\n",
    "elif operator == \"/\":\n",
    "    print(\"{} + {} = {}\".format(num_1,num_2,num_1 / num_2))"
   ]
  },
  {
   "cell_type": "code",
   "execution_count": 6,
   "metadata": {},
   "outputs": [
    {
     "name": "stdout",
     "output_type": "stream",
     "text": [
      "Enter the age: 5\n",
      "Go to Kindergarden\n"
     ]
    }
   ],
   "source": [
    "#if else if sample\n",
    "age = int(input(\"Enter the age: \"))\n",
    "\n",
    "if age < 5:\n",
    "    print(\"Too young for school\")\n",
    "elif age == 5:\n",
    "    print(\"Go to Kindergarden\")\n",
    "elif (age > 5) and (age <= 17):\n",
    "    grade = age - 5\n",
    "    print(\"Go to Grade {}\".format(grade))\n",
    "elif age > 17:\n",
    "    print(\"Go to College\")"
   ]
  },
  {
   "cell_type": "code",
   "execution_count": null,
   "metadata": {},
   "outputs": [],
   "source": [
    "#True if condition else\n",
    "age = int(input(\"Enter your age: \"))\n",
    "can_vote = True if age > 17 else False\n",
    "print(\"You can vote: \",can_vote)"
   ]
  },
  {
   "cell_type": "code",
   "execution_count": null,
   "metadata": {},
   "outputs": [],
   "source": [
    "# for loop to print odd numbers\n",
    "for i in range(1,21):\n",
    "    if(i%2 != 0):\n",
    "        print(\"Odd numbers:\", i)"
   ]
  },
  {
   "cell_type": "code",
   "execution_count": 7,
   "metadata": {},
   "outputs": [
    {
     "name": "stdout",
     "output_type": "stream",
     "text": [
      "Enter your investment amount: 2500\n",
      "Expected Interest: 12.5\n",
      "Returns after 10 years: 8118.30\n"
     ]
    }
   ],
   "source": [
    "# for loop with basic calculations and float 2 decimal display\n",
    "inv_amount = float(input(\"Enter your investment amount: \"))\n",
    "exp_interest = float(input(\"Expected Interest: \"))\n",
    "for i in range(1,11):\n",
    "    inv_amount = (inv_amount + (inv_amount * exp_interest/100))\n",
    "    #print(\"Expected return value after {} year: {:.2f} \".format(i,inv_amount))\n",
    "print(\"Returns after 10 years: {:.2f}\".format(inv_amount))"
   ]
  },
  {
   "cell_type": "code",
   "execution_count": 4,
   "metadata": {},
   "outputs": [
    {
     "name": "stdout",
     "output_type": "stream",
     "text": [
      "Enter your investment amount: 1200.335\n",
      "1200.335\n"
     ]
    }
   ],
   "source": []
  },
  {
   "cell_type": "code",
   "execution_count": 8,
   "metadata": {},
   "outputs": [
    {
     "name": "stdout",
     "output_type": "stream",
     "text": [
      "2\n",
      "3\n",
      "4\n",
      "5\n"
     ]
    }
   ],
   "source": [
    "# simple for loop with range\n",
    "for i in range(2,6):\n",
    "    print(i)"
   ]
  },
  {
   "cell_type": "code",
   "execution_count": 5,
   "metadata": {},
   "outputs": [
    {
     "name": "stdout",
     "output_type": "stream",
     "text": [
      "How tall the tree is: 7\n",
      "      #\n",
      "     ###\n",
      "    #####\n",
      "   #######\n",
      "  #########\n",
      " ###########\n",
      "#############\n",
      "      #\n"
     ]
    }
   ],
   "source": [
    "#while and for loop - pine tree sample\n",
    "tree_height = int(input(\"How tall the tree is: \"))\n",
    "space_count=tree_height-1\n",
    "hash_count=1\n",
    "stump_spaces = tree_height-1 \n",
    "\n",
    "while (tree_height !=0 ): \n",
    "    for i in range(space_count):\n",
    "        print(\" \",end=\"\") # refer end usuage in print fn\n",
    "    for i in range(hash_count):\n",
    "        print(\"#\",end=\"\")\n",
    "    print()\n",
    "    space_count-=1\n",
    "    hash_count+=2 \n",
    "    tree_height-=1    \n",
    "for i in range(stump_spaces):\n",
    "    print(\" \",end=\"\")\n",
    "print(\"#\")"
   ]
  },
  {
   "cell_type": "code",
   "execution_count": 13,
   "metadata": {},
   "outputs": [
    {
     "name": "stdout",
     "output_type": "stream",
     "text": [
      "Guess a number between 1 and 10: 8\n",
      "Guess a number between 1 and 10: 7\n",
      "You guessed it\n"
     ]
    }
   ],
   "source": [
    "# do while, break \n",
    "secret_num = 7\n",
    "while True:\n",
    "    guess_num = int(input(\"Guess a number between 1 and 10: \"))\n",
    "    if(guess_num == secret_num):\n",
    "        print(\"You guessed it\")\n",
    "        break\n",
    "        "
   ]
  },
  {
   "cell_type": "code",
   "execution_count": null,
   "metadata": {},
   "outputs": [],
   "source": []
  },
  {
   "cell_type": "code",
   "execution_count": null,
   "metadata": {},
   "outputs": [],
   "source": []
  }
 ],
 "metadata": {
  "kernelspec": {
   "display_name": "Python 3",
   "language": "python",
   "name": "python3"
  },
  "language_info": {
   "codemirror_mode": {
    "name": "ipython",
    "version": 3
   },
   "file_extension": ".py",
   "mimetype": "text/x-python",
   "name": "python",
   "nbconvert_exporter": "python",
   "pygments_lexer": "ipython3",
   "version": "3.7.6"
  }
 },
 "nbformat": 4,
 "nbformat_minor": 4
}
